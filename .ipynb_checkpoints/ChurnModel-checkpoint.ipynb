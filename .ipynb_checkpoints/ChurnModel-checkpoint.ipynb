{
 "cells": [
  {
   "cell_type": "code",
   "execution_count": null,
   "id": "765e5b46-b40a-46ca-9b36-396efb21e35c",
   "metadata": {},
   "outputs": [],
   "source": [
    "import pandas as pd\n",
    "from sklearn.model_selection import train_test_split, cross_val_score\n",
    "from sklearn.preprocessing import LabelEncoder, StandardScaler\n",
    "from sklearn.linear_model import LogisticRegression\n",
    "from sklearn.metrics import accuracy_score, precision_score, recall_score, f1_score, roc_auc_score, confusion_matrix, classification_report, roc_curve\n",
    "import seaborn as sns\n",
    "import matplotlib.pyplot as plt\n",
    "from datetime import datetime"
   ]
  },
  {
   "cell_type": "code",
   "execution_count": null,
   "id": "8098d355-d633-4c4d-a427-e873c1fec426",
   "metadata": {},
   "outputs": [],
   "source": [
    "\n",
    "market_research = pd.read_csv('market_research.csv')\n",
    "customer_interactions = pd.read_csv('customer_interactions.csv')"
   ]
  },
  {
   "cell_type": "code",
   "execution_count": null,
   "id": "5fc131e1-1c5c-4cc4-8474-50a0612c822b",
   "metadata": {},
   "outputs": [],
   "source": [
    "# Aggregate Interaction Data\n",
    "customer_interactions['InteractionDate'] = pd.to_datetime(customer_interactions['InteractionDate'])\n",
    "\n",
    "# InteractionCount Feature\n",
    "interaction_counts = customer_interactions.groupby('CustomerID').size().rename('InteractionCount')\n",
    "\n",
    "# Recency Feature (days since last interaction)\n",
    "latest_interaction = customer_interactions.groupby('CustomerID')['InteractionDate'].max()\n",
    "recency = (datetime.now() - latest_interaction).dt.days.rename('Recency')\n",
    "\n",
    "# PreferredChannel Feature\n",
    "preferred_channel = customer_interactions.groupby('CustomerID')['Channel'].agg(\n",
    "    lambda x: x.mode()[0] if not x.mode().empty else 'Unknown'\n",
    ").rename('PreferredChannel')\n",
    "\n",
    "# AvgResolutionTime Feature\n",
    "avg_resolution_time = customer_interactions.groupby('CustomerID')['ResolutionTime'].mean().rename('AvgResolutionTime')\n",
    "\n",
    "# Combine Interaction Features\n",
    "interaction_features = pd.concat([interaction_counts, recency, preferred_channel, avg_resolution_time], axis=1)"
   ]
  },
  {
   "cell_type": "code",
   "execution_count": null,
   "id": "2fe30e61-64a2-48f6-9fbc-cf70bd8fdca8",
   "metadata": {},
   "outputs": [],
   "source": [
    "# Merge those Features with Market Research Data\n",
    "data = pd.merge(market_research, interaction_features, on='CustomerID', how='left')\n",
    "\n",
    "# Handle Missing Values with average values in some cases\n",
    "data['SatisfactionScore'].fillna(data['SatisfactionScore'].median(), inplace=True)\n",
    "data['RecommendationLikelihood'].fillna(data['RecommendationLikelihood'].median(), inplace=True)\n",
    "data['InteractionCount'].fillna(0, inplace=True)\n",
    "data['Recency'].fillna(data['Recency'].max(), inplace=True)\n",
    "data['PreferredChannel'].fillna('Unknown', inplace=True)\n",
    "data['AvgResolutionTime'].fillna(0, inplace=True)"
   ]
  },
  {
   "cell_type": "code",
   "execution_count": null,
   "id": "c34d3cee-1237-4e0f-9067-b7f7409d319f",
   "metadata": {},
   "outputs": [],
   "source": [
    "# Encode Categorical Features (convert text to numbers)\n",
    "label_encoder = LabelEncoder()\n",
    "data['Comments_encoded'] = label_encoder.fit_transform(data['Comments'])\n",
    "\n",
    "# Set True or False for to determine which communication channel the customer uses\n",
    "data = pd.get_dummies(data, columns=['PreferredChannel'], drop_first=False)\n",
    "\n",
    "# Define Churn or not based on satisfactionscore and recency\n",
    "data['Churn'] = ((data['SatisfactionScore'] < 3) | (data['Recency'] > 700)).astype(int)\n",
    "\n",
    "# Create a CSV file with the merged data to use in ML Studio\n",
    "data.to_csv('prepared_data.csv', index=False)"
   ]
  },
  {
   "cell_type": "code",
   "execution_count": null,
   "id": "f552452a-0ce2-43bd-b9ff-4fc22c1cff53",
   "metadata": {},
   "outputs": [],
   "source": [
    "# Define Features and Target Label\n",
    "X = data.drop(columns=['SurveyID', 'CustomerID', 'Comments', 'Churn'])\n",
    "y = data['Churn']\n",
    "\n",
    "# Standardize only the Numerical Features\n",
    "numerical_features = ['SatisfactionScore', 'RecommendationLikelihood', 'InteractionCount', 'Recency', 'AvgResolutionTime']\n",
    "scaler = StandardScaler()\n",
    "X[numerical_features] = scaler.fit_transform(X[numerical_features])\n",
    "\n",
    "# Split Data in testing and training sets (30/70)\n",
    "X_train, X_test, y_train, y_test = train_test_split(X, y, test_size=0.3, random_state=42, stratify=y)\n"
   ]
  },
  {
   "cell_type": "code",
   "execution_count": null,
   "id": "10ed9c03-0473-4d15-92cf-62ab00db98d4",
   "metadata": {},
   "outputs": [],
   "source": [
    "# Train the model\n",
    "model = LogisticRegression(max_iter=1000, random_state=42)\n",
    "model.fit(X_train, y_train)"
   ]
  },
  {
   "cell_type": "code",
   "execution_count": null,
   "id": "22f32afa-24fe-4ce6-acb5-82b1124d2168",
   "metadata": {},
   "outputs": [],
   "source": [
    "# Predict and Evaluate\n",
    "y_pred = model.predict(X_test)\n",
    "y_prob = model.predict_proba(X_test)[:, 1]\n",
    "\n",
    "# Metrics\n",
    "accuracy = accuracy_score(y_test, y_pred)\n",
    "precision = precision_score(y_test, y_pred)\n",
    "recall = recall_score(y_test, y_pred)\n",
    "f1 = f1_score(y_test, y_pred)\n",
    "roc_auc = roc_auc_score(y_test, y_prob)\n",
    "conf_matrix = confusion_matrix(y_test, y_pred)\n",
    "class_report = classification_report(y_test, y_pred)\n",
    "\n",
    "# Print Metrics\n",
    "print(f\"Accuracy: {accuracy:.2f}\")\n",
    "print(f\"Precision: {precision:.2f}\")\n",
    "print(f\"Recall: {recall:.2f}\")\n",
    "print(f\"F1 Score: {f1:.2f}\")\n",
    "print(\"\\nClassification Report:\\n\", class_report)\n"
   ]
  },
  {
   "cell_type": "code",
   "execution_count": null,
   "id": "cd65bd10-ee4b-4156-b0e2-8396dede04dd",
   "metadata": {},
   "outputs": [],
   "source": [
    "# Visualize the data\n",
    "plt.figure(figsize=(8, 6))\n",
    "sns.heatmap(conf_matrix, annot=True, fmt='d', cmap='Blues', xticklabels=['No Churn', 'Churn'], yticklabels=['No Churn', 'Churn'])\n",
    "plt.title('Confusion Matrix')\n",
    "plt.xlabel('Predicted')\n",
    "plt.ylabel('Actual')\n",
    "plt.show()\n",
    "\n",
    "# ROC Curve\n",
    "fpr, tpr, thresholds = roc_curve(y_test, y_prob)\n",
    "plt.figure(figsize=(8, 6))\n",
    "plt.plot(fpr, tpr, color='blue', lw=2, label=f'ROC Curve (AUC = {roc_auc:.2f})')\n",
    "plt.plot([0, 1], [0, 1], color='red', linestyle='--')\n",
    "plt.xlabel('False Positive Rate')\n",
    "plt.ylabel('True Positive Rate')\n",
    "plt.title('ROC Curve')\n",
    "plt.legend(loc='lower right')\n",
    "plt.show()\n"
   ]
  },
  {
   "cell_type": "code",
   "execution_count": null,
   "id": "7a1b8a9d-6b0f-4d6c-b5c3-d7e948f32001",
   "metadata": {},
   "outputs": [],
   "source": []
  }
 ],
 "metadata": {
  "kernelspec": {
   "display_name": "Python 3 (ipykernel)",
   "language": "python",
   "name": "python3"
  },
  "language_info": {
   "codemirror_mode": {
    "name": "ipython",
    "version": 3
   },
   "file_extension": ".py",
   "mimetype": "text/x-python",
   "name": "python",
   "nbconvert_exporter": "python",
   "pygments_lexer": "ipython3",
   "version": "3.11.2"
  }
 },
 "nbformat": 4,
 "nbformat_minor": 5
}
